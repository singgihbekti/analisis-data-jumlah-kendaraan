{
 "cells": [
  {
   "cell_type": "code",
   "execution_count": 1,
   "id": "82141394",
   "metadata": {},
   "outputs": [
    {
     "name": "stdout",
     "output_type": "stream",
     "text": [
      "     Desa Kecamatan Kabupaten   Datetime  Jumlah Kendaraan\n",
      "0  Desa 1         A      Alfa 2022-12-17               NaN\n",
      "1  Desa 2         A      Alfa 2022-02-13               NaN\n",
      "2  Desa 3         A      Alfa 2022-02-10               0.0\n",
      "3  Desa 4         A      Alfa 2022-01-30               NaN\n",
      "4  Desa 5         A      Alfa 2022-05-19               NaN\n"
     ]
    }
   ],
   "source": [
    "import pandas as pd\n",
    "import random\n",
    "import numpy as np\n",
    "from datetime import datetime, timedelta\n",
    "\n",
    "# Membuat daftar desa, kecamatan, dan kabupaten\n",
    "desa = []\n",
    "kecamatan = []\n",
    "kabupaten = []\n",
    "\n",
    "# Mengisi daftar desa, kecamatan, dan kabupaten sesuai dengan deskripsi\n",
    "for i in range(1, 251):\n",
    "    desa.append(f\"Desa {i}\")\n",
    "    if i <= 25:\n",
    "        kecamatan.append(\"A\")\n",
    "        kabupaten.append(\"Alfa\")\n",
    "    elif i <= 50:\n",
    "        kecamatan.append(\"B\")\n",
    "        kabupaten.append(\"Alfa\")\n",
    "    elif i <= 75:\n",
    "        kecamatan.append(\"C\")\n",
    "        kabupaten.append(\"Beta\")\n",
    "    elif i <= 100:\n",
    "        kecamatan.append(\"D\")\n",
    "        kabupaten.append(\"Beta\")\n",
    "    elif i <= 125:\n",
    "        kecamatan.append(\"E\")\n",
    "        kabupaten.append(\"Delta\")\n",
    "    elif i <= 150:\n",
    "        kecamatan.append(\"F\")\n",
    "        kabupaten.append(\"Delta\")\n",
    "    elif i <= 175:\n",
    "        kecamatan.append(\"G\")\n",
    "        kabupaten.append(\"Gamma\")\n",
    "    elif i <= 200:\n",
    "        kecamatan.append(\"H\")\n",
    "        kabupaten.append(\"Gamma\")\n",
    "    elif i <= 225:\n",
    "        kecamatan.append(\"I\")\n",
    "        kabupaten.append(\"Lamda\")\n",
    "    else:\n",
    "        kecamatan.append(\"J\")\n",
    "        kabupaten.append(\"Lamda\")\n",
    "\n",
    "# Membuat kolom jumlah kendaraan dengan angka random antara 0-100, 0, atau NaN\n",
    "jumlah_kendaraan = []\n",
    "for _ in range(250):\n",
    "    random_num = random.randint(0, 2)\n",
    "    if random_num == 0:\n",
    "        jumlah_kendaraan.append(0)\n",
    "    elif random_num == 1:\n",
    "        jumlah_kendaraan.append(np.nan)\n",
    "    else:\n",
    "        jumlah_kendaraan.append(random.randint(1, 150))\n",
    "\n",
    "# Membuat kolom datetime dengan nilai random dalam rentang 2022-01-01 hingga 2022-12-31\n",
    "start_date = datetime(2022, 1, 1)\n",
    "end_date = datetime(2022, 12, 31)\n",
    "date_range = end_date - start_date\n",
    "datetimes = [start_date + timedelta(days=random.randint(0, date_range.days)) for _ in range(250)]\n",
    "\n",
    "# Membuat DataFrame\n",
    "data = pd.DataFrame({\n",
    "    \"Desa\": desa,\n",
    "    \"Kecamatan\": kecamatan,\n",
    "    \"Kabupaten\": kabupaten,\n",
    "    \"Datetime\": datetimes,\n",
    "    \"Jumlah Kendaraan\": jumlah_kendaraan\n",
    "})\n",
    "\n",
    "# Menampilkan DataFrame\n",
    "print(data.head())\n"
   ]
  },
  {
   "cell_type": "code",
   "execution_count": 2,
   "id": "a4db3a46",
   "metadata": {},
   "outputs": [
    {
     "data": {
      "text/html": [
       "<div>\n",
       "<style scoped>\n",
       "    .dataframe tbody tr th:only-of-type {\n",
       "        vertical-align: middle;\n",
       "    }\n",
       "\n",
       "    .dataframe tbody tr th {\n",
       "        vertical-align: top;\n",
       "    }\n",
       "\n",
       "    .dataframe thead th {\n",
       "        text-align: right;\n",
       "    }\n",
       "</style>\n",
       "<table border=\"1\" class=\"dataframe\">\n",
       "  <thead>\n",
       "    <tr style=\"text-align: right;\">\n",
       "      <th></th>\n",
       "      <th>Desa</th>\n",
       "      <th>Kecamatan</th>\n",
       "      <th>Kabupaten</th>\n",
       "      <th>Datetime</th>\n",
       "      <th>Jumlah Kendaraan</th>\n",
       "    </tr>\n",
       "  </thead>\n",
       "  <tbody>\n",
       "    <tr>\n",
       "      <th>0</th>\n",
       "      <td>Desa 1</td>\n",
       "      <td>A</td>\n",
       "      <td>Alfa</td>\n",
       "      <td>2022-12-17</td>\n",
       "      <td>NaN</td>\n",
       "    </tr>\n",
       "    <tr>\n",
       "      <th>1</th>\n",
       "      <td>Desa 2</td>\n",
       "      <td>A</td>\n",
       "      <td>Alfa</td>\n",
       "      <td>2022-02-13</td>\n",
       "      <td>NaN</td>\n",
       "    </tr>\n",
       "    <tr>\n",
       "      <th>2</th>\n",
       "      <td>Desa 3</td>\n",
       "      <td>A</td>\n",
       "      <td>Alfa</td>\n",
       "      <td>2022-02-10</td>\n",
       "      <td>0.0</td>\n",
       "    </tr>\n",
       "    <tr>\n",
       "      <th>3</th>\n",
       "      <td>Desa 4</td>\n",
       "      <td>A</td>\n",
       "      <td>Alfa</td>\n",
       "      <td>2022-01-30</td>\n",
       "      <td>NaN</td>\n",
       "    </tr>\n",
       "    <tr>\n",
       "      <th>4</th>\n",
       "      <td>Desa 5</td>\n",
       "      <td>A</td>\n",
       "      <td>Alfa</td>\n",
       "      <td>2022-05-19</td>\n",
       "      <td>NaN</td>\n",
       "    </tr>\n",
       "  </tbody>\n",
       "</table>\n",
       "</div>"
      ],
      "text/plain": [
       "     Desa Kecamatan Kabupaten   Datetime  Jumlah Kendaraan\n",
       "0  Desa 1         A      Alfa 2022-12-17               NaN\n",
       "1  Desa 2         A      Alfa 2022-02-13               NaN\n",
       "2  Desa 3         A      Alfa 2022-02-10               0.0\n",
       "3  Desa 4         A      Alfa 2022-01-30               NaN\n",
       "4  Desa 5         A      Alfa 2022-05-19               NaN"
      ]
     },
     "execution_count": 2,
     "metadata": {},
     "output_type": "execute_result"
    }
   ],
   "source": [
    "data.head()"
   ]
  },
  {
   "cell_type": "code",
   "execution_count": 3,
   "id": "0abc76eb",
   "metadata": {},
   "outputs": [
    {
     "data": {
      "text/html": [
       "<div>\n",
       "<style scoped>\n",
       "    .dataframe tbody tr th:only-of-type {\n",
       "        vertical-align: middle;\n",
       "    }\n",
       "\n",
       "    .dataframe tbody tr th {\n",
       "        vertical-align: top;\n",
       "    }\n",
       "\n",
       "    .dataframe thead th {\n",
       "        text-align: right;\n",
       "    }\n",
       "</style>\n",
       "<table border=\"1\" class=\"dataframe\">\n",
       "  <thead>\n",
       "    <tr style=\"text-align: right;\">\n",
       "      <th></th>\n",
       "      <th>Desa</th>\n",
       "      <th>Kecamatan</th>\n",
       "      <th>Kabupaten</th>\n",
       "      <th>Datetime</th>\n",
       "      <th>Jumlah Kendaraan</th>\n",
       "    </tr>\n",
       "  </thead>\n",
       "  <tbody>\n",
       "    <tr>\n",
       "      <th>245</th>\n",
       "      <td>Desa 246</td>\n",
       "      <td>J</td>\n",
       "      <td>Lamda</td>\n",
       "      <td>2022-11-16</td>\n",
       "      <td>18.0</td>\n",
       "    </tr>\n",
       "    <tr>\n",
       "      <th>246</th>\n",
       "      <td>Desa 247</td>\n",
       "      <td>J</td>\n",
       "      <td>Lamda</td>\n",
       "      <td>2022-12-29</td>\n",
       "      <td>0.0</td>\n",
       "    </tr>\n",
       "    <tr>\n",
       "      <th>247</th>\n",
       "      <td>Desa 248</td>\n",
       "      <td>J</td>\n",
       "      <td>Lamda</td>\n",
       "      <td>2022-05-12</td>\n",
       "      <td>120.0</td>\n",
       "    </tr>\n",
       "    <tr>\n",
       "      <th>248</th>\n",
       "      <td>Desa 249</td>\n",
       "      <td>J</td>\n",
       "      <td>Lamda</td>\n",
       "      <td>2022-02-06</td>\n",
       "      <td>0.0</td>\n",
       "    </tr>\n",
       "    <tr>\n",
       "      <th>249</th>\n",
       "      <td>Desa 250</td>\n",
       "      <td>J</td>\n",
       "      <td>Lamda</td>\n",
       "      <td>2022-11-25</td>\n",
       "      <td>NaN</td>\n",
       "    </tr>\n",
       "  </tbody>\n",
       "</table>\n",
       "</div>"
      ],
      "text/plain": [
       "         Desa Kecamatan Kabupaten   Datetime  Jumlah Kendaraan\n",
       "245  Desa 246         J     Lamda 2022-11-16              18.0\n",
       "246  Desa 247         J     Lamda 2022-12-29               0.0\n",
       "247  Desa 248         J     Lamda 2022-05-12             120.0\n",
       "248  Desa 249         J     Lamda 2022-02-06               0.0\n",
       "249  Desa 250         J     Lamda 2022-11-25               NaN"
      ]
     },
     "execution_count": 3,
     "metadata": {},
     "output_type": "execute_result"
    }
   ],
   "source": [
    "data.tail()"
   ]
  },
  {
   "cell_type": "code",
   "execution_count": 7,
   "id": "e346be0b",
   "metadata": {},
   "outputs": [
    {
     "name": "stdout",
     "output_type": "stream",
     "text": [
      "Data berhasil disimpan dalam file ZIP.\n"
     ]
    }
   ],
   "source": [
    "import pandas as pd\n",
    "import random\n",
    "import numpy as np\n",
    "import zipfile\n",
    "from datetime import datetime, timedelta\n",
    "\n",
    "# Membuat DataFrame\n",
    "# Kode untuk menghasilkan DataFrame\n",
    "\n",
    "# Simpan DataFrame ke dalam file CSV\n",
    "data.to_csv('data.csv', index=False)\n",
    "\n",
    "# Membuat file ZIP dan menambahkan file CSV ke dalamnya\n",
    "with zipfile.ZipFile('data.zip', 'w') as zipf:\n",
    "    zipf.write('data.csv')\n",
    "\n",
    "print(\"Data berhasil disimpan dalam file ZIP.\")\n"
   ]
  },
  {
   "cell_type": "code",
   "execution_count": null,
   "id": "c5f4fda4",
   "metadata": {},
   "outputs": [],
   "source": []
  },
  {
   "cell_type": "markdown",
   "id": "ce1785cf",
   "metadata": {},
   "source": [
    "# Scenario"
   ]
  },
  {
   "cell_type": "markdown",
   "id": "c1d0eb42",
   "metadata": {},
   "source": [
    "## 1.Read"
   ]
  },
  {
   "cell_type": "code",
   "execution_count": 53,
   "id": "0cdceb09",
   "metadata": {},
   "outputs": [
    {
     "name": "stdout",
     "output_type": "stream",
     "text": [
      "File CSV berhasil disalin ke ./output\\kendaraan-20230610045000.csv\n"
     ]
    }
   ],
   "source": [
    "import zipfile\n",
    "import os\n",
    "import shutil\n",
    "from datetime import datetime\n",
    "\n",
    "# Path ke file ZIP\n",
    "zip_path = \"data.zip\"\n",
    "\n",
    "# Ekstrak file ZIP\n",
    "with zipfile.ZipFile(zip_path, 'r') as zip_ref:\n",
    "    zip_ref.extractall()\n",
    "\n",
    "# Cari file CSV di dalam folder yang diekstrak\n",
    "csv_file = None\n",
    "for root, dirs, files in os.walk(\".\"):\n",
    "    for file in files:\n",
    "        if file.endswith(\".csv\"):\n",
    "            csv_file = os.path.join(root, file)\n",
    "            break\n",
    "\n",
    "# Jika file CSV ditemukan\n",
    "if csv_file:\n",
    "    # Buat nama file baru dengan format \"kendaraan-datetime.csv\"\n",
    "    now = datetime.now()\n",
    "    timestamp = now.strftime(\"%Y%m%d%H%M%S\")\n",
    "    new_filename = f\"kendaraan-{timestamp}.csv\"\n",
    "    \n",
    "    # Path tujuan untuk menyimpan file baru\n",
    "    output_dir = \"./output\"\n",
    "    os.makedirs(output_dir, exist_ok=True)\n",
    "    output_path = os.path.join(output_dir, new_filename)\n",
    "    \n",
    "    # Salin file CSV ke direktori output\n",
    "    shutil.copy(csv_file, output_path)\n",
    "    print(f\"File CSV berhasil disalin ke {output_path}\")\n",
    "else:\n",
    "    print(\"File CSV tidak ditemukan dalam file ZIP.\")\n"
   ]
  },
  {
   "cell_type": "markdown",
   "id": "37cdb4a0",
   "metadata": {},
   "source": [
    "## 2. Cleaning"
   ]
  },
  {
   "cell_type": "code",
   "execution_count": 9,
   "id": "55ad854d",
   "metadata": {},
   "outputs": [
    {
     "name": "stdout",
     "output_type": "stream",
     "text": [
      "Jumlah data NaN: 87\n",
      "Jumlah data yang bernilai 0: 91\n"
     ]
    }
   ],
   "source": [
    "import pandas as pd\n",
    "import numpy as np\n",
    "\n",
    "# Membaca file CSV\n",
    "df = pd.read_csv('data.csv')\n",
    "\n",
    "# Menghitung jumlah data NaN\n",
    "nan_count = df.isna().sum().sum()\n",
    "\n",
    "# Menghitung jumlah data yang bernilai 0\n",
    "zero_count = (df == 0).sum().sum()\n",
    "\n",
    "print(f\"Jumlah data NaN: {nan_count}\")\n",
    "print(f\"Jumlah data yang bernilai 0: {zero_count}\")\n"
   ]
  },
  {
   "cell_type": "code",
   "execution_count": 12,
   "id": "c79e4d26",
   "metadata": {},
   "outputs": [],
   "source": [
    "import pandas as pd\n",
    "import numpy as np\n",
    "\n",
    "# Membaca file CSV\n",
    "df = pd.read_csv('data.csv')\n",
    "\n",
    "# Menghapus baris yang mengandung nilai NaN\n",
    "df = df.dropna()\n",
    "\n",
    "# Mengganti nilai 0 dengan NaN\n",
    "df = df.replace(0, np.nan)\n",
    "\n",
    "# Menghapus baris yang mengandung nilai NaN setelah perubahan\n",
    "df = df.dropna()\n"
   ]
  },
  {
   "cell_type": "code",
   "execution_count": 13,
   "id": "6207a5de",
   "metadata": {},
   "outputs": [
    {
     "name": "stdout",
     "output_type": "stream",
     "text": [
      "Jumlah data NaN: 0\n",
      "Jumlah data yang bernilai 0: 0\n"
     ]
    }
   ],
   "source": [
    "# Menghitung jumlah data NaN\n",
    "nan_count = df.isna().sum().sum()\n",
    "\n",
    "# Menghitung jumlah data yang bernilai 0\n",
    "zero_count = (df == 0).sum().sum()\n",
    "\n",
    "print(f\"Jumlah data NaN: {nan_count}\")\n",
    "print(f\"Jumlah data yang bernilai 0: {zero_count}\")\n"
   ]
  },
  {
   "cell_type": "code",
   "execution_count": 46,
   "id": "9cc80725",
   "metadata": {},
   "outputs": [],
   "source": [
    "output_all=\"./output/\"\n",
    "\n",
    "# Menyimpan DataFrame yang sudah dihapus datanya ke file CSV baru\n",
    "#df.to_csv('data_cleaned.csv', index=False)\n",
    "\n",
    "cleaned_csv='data_cleaned.csv'\n",
    "path_cleaned_csv=output_all+cleaned_csv\n",
    "df.to_csv(path_cleaned_csv, index=False)"
   ]
  },
  {
   "cell_type": "code",
   "execution_count": 15,
   "id": "5e19d770",
   "metadata": {},
   "outputs": [
    {
     "data": {
      "text/html": [
       "<div>\n",
       "<style scoped>\n",
       "    .dataframe tbody tr th:only-of-type {\n",
       "        vertical-align: middle;\n",
       "    }\n",
       "\n",
       "    .dataframe tbody tr th {\n",
       "        vertical-align: top;\n",
       "    }\n",
       "\n",
       "    .dataframe thead th {\n",
       "        text-align: right;\n",
       "    }\n",
       "</style>\n",
       "<table border=\"1\" class=\"dataframe\">\n",
       "  <thead>\n",
       "    <tr style=\"text-align: right;\">\n",
       "      <th></th>\n",
       "      <th>Desa</th>\n",
       "      <th>Kecamatan</th>\n",
       "      <th>Kabupaten</th>\n",
       "      <th>Datetime</th>\n",
       "      <th>Jumlah Kendaraan</th>\n",
       "    </tr>\n",
       "  </thead>\n",
       "  <tbody>\n",
       "    <tr>\n",
       "      <th>6</th>\n",
       "      <td>Desa 7</td>\n",
       "      <td>A</td>\n",
       "      <td>Alfa</td>\n",
       "      <td>2022-11-14</td>\n",
       "      <td>129.0</td>\n",
       "    </tr>\n",
       "    <tr>\n",
       "      <th>16</th>\n",
       "      <td>Desa 17</td>\n",
       "      <td>A</td>\n",
       "      <td>Alfa</td>\n",
       "      <td>2022-02-10</td>\n",
       "      <td>140.0</td>\n",
       "    </tr>\n",
       "    <tr>\n",
       "      <th>20</th>\n",
       "      <td>Desa 21</td>\n",
       "      <td>A</td>\n",
       "      <td>Alfa</td>\n",
       "      <td>2022-11-27</td>\n",
       "      <td>72.0</td>\n",
       "    </tr>\n",
       "    <tr>\n",
       "      <th>27</th>\n",
       "      <td>Desa 28</td>\n",
       "      <td>B</td>\n",
       "      <td>Alfa</td>\n",
       "      <td>2022-06-01</td>\n",
       "      <td>105.0</td>\n",
       "    </tr>\n",
       "    <tr>\n",
       "      <th>29</th>\n",
       "      <td>Desa 30</td>\n",
       "      <td>B</td>\n",
       "      <td>Alfa</td>\n",
       "      <td>2022-06-21</td>\n",
       "      <td>29.0</td>\n",
       "    </tr>\n",
       "  </tbody>\n",
       "</table>\n",
       "</div>"
      ],
      "text/plain": [
       "       Desa Kecamatan Kabupaten    Datetime  Jumlah Kendaraan\n",
       "6    Desa 7         A      Alfa  2022-11-14             129.0\n",
       "16  Desa 17         A      Alfa  2022-02-10             140.0\n",
       "20  Desa 21         A      Alfa  2022-11-27              72.0\n",
       "27  Desa 28         B      Alfa  2022-06-01             105.0\n",
       "29  Desa 30         B      Alfa  2022-06-21              29.0"
      ]
     },
     "execution_count": 15,
     "metadata": {},
     "output_type": "execute_result"
    }
   ],
   "source": [
    "df.head()"
   ]
  },
  {
   "cell_type": "markdown",
   "id": "bed289ca",
   "metadata": {},
   "source": [
    "## 3. Visual"
   ]
  },
  {
   "cell_type": "code",
   "execution_count": 23,
   "id": "109b1ad1",
   "metadata": {},
   "outputs": [
    {
     "data": {
      "image/png": "[encoded data removed]",
      "text/plain": [
       "<Figure size 720x432 with 1 Axes>"
      ]
     },
     "metadata": {
      "needs_background": "light"
     },
     "output_type": "display_data"
    }
   ],
   "source": [
    "import pandas as pd\n",
    "import matplotlib.pyplot as plt\n",
    "\n",
    "# Menghitung jumlah kendaraan per desa\n",
    "jumlah_kendaraan_per_desa = df.groupby('Desa')['Jumlah Kendaraan'].sum()\n",
    "\n",
    "# Membuat grafik batang\n",
    "plt.figure(figsize=(10, 6))\n",
    "jumlah_kendaraan_per_desa.plot(kind='bar', color='blue')\n",
    "plt.xlabel('Desa')\n",
    "plt.ylabel('Jumlah Kendaraan')\n",
    "plt.title('Jumlah Kendaraan per Desa')\n",
    "plt.xticks(rotation=45)\n",
    "plt.savefig(r'.\\output\\desa.jpg')\n",
    "plt.show()\n"
   ]
  },
  {
   "cell_type": "code",
   "execution_count": 24,
   "id": "e2bd5663",
   "metadata": {},
   "outputs": [
    {
     "data": {
      "image/png": "[encoded data removed]",
      "text/plain": [
       "<Figure size 864x432 with 1 Axes>"
      ]
     },
     "metadata": {
      "needs_background": "light"
     },
     "output_type": "display_data"
    }
   ],
   "source": [
    "import pandas as pd\n",
    "import matplotlib.pyplot as plt\n",
    "\n",
    "# Menghitung jumlah kendaraan per kecamatan\n",
    "jumlah_kendaraan_per_kecamatan = df.groupby('Kecamatan')['Jumlah Kendaraan'].sum()\n",
    "\n",
    "# Membuat grafik batang\n",
    "plt.figure(figsize=(12, 6))\n",
    "jumlah_kendaraan_per_kecamatan.plot(kind='bar', color='green')\n",
    "\n",
    "# Menampilkan angka di atas setiap batang\n",
    "for i, v in enumerate(jumlah_kendaraan_per_kecamatan):\n",
    "    plt.text(i, v, str(v), ha='center', va='bottom')\n",
    "\n",
    "plt.xlabel('Kecamatan')\n",
    "plt.ylabel('Jumlah Kendaraan')\n",
    "plt.title('Jumlah Kendaraan per Kecamatan')\n",
    "plt.xticks(rotation=45)\n",
    "plt.savefig(r'.\\output\\kecamatan.jpg')\n",
    "plt.show()\n"
   ]
  },
  {
   "cell_type": "code",
   "execution_count": 22,
   "id": "db67399a",
   "metadata": {},
   "outputs": [
    {
     "data": {
      "image/png": "[encoded data removed]",
      "text/plain": [
       "<Figure size 864x432 with 1 Axes>"
      ]
     },
     "metadata": {
      "needs_background": "light"
     },
     "output_type": "display_data"
    }
   ],
   "source": [
    "import pandas as pd\n",
    "import matplotlib.pyplot as plt\n",
    "\n",
    "# Menghitung jumlah kendaraan per kabupaten\n",
    "jumlah_kendaraan_per_kabupaten = df.groupby('Kabupaten')['Jumlah Kendaraan'].sum()\n",
    "\n",
    "# Membuat grafik batang\n",
    "plt.figure(figsize=(12, 6))\n",
    "jumlah_kendaraan_per_kabupaten.plot(kind='bar', color='blue')\n",
    "\n",
    "# Menampilkan angka di atas setiap batang\n",
    "for i, v in enumerate(jumlah_kendaraan_per_kabupaten):\n",
    "    plt.text(i, v, str(v), ha='center', va='bottom')\n",
    "\n",
    "plt.xlabel('Kabupaten')\n",
    "plt.ylabel('Jumlah Kendaraan')\n",
    "plt.title('Jumlah Kendaraan per Kabupaten')\n",
    "plt.xticks(rotation=90)\n",
    "\n",
    "# Menyimpan grafik dalam format JPG\n",
    "plt.savefig(r'.\\output\\kabupaten.jpg')\n",
    "plt.show()\n"
   ]
  },
  {
   "cell_type": "markdown",
   "id": "cf90a50d",
   "metadata": {},
   "source": [
    "## 3. Group By SUM and MEAN"
   ]
  },
  {
   "cell_type": "code",
   "execution_count": 47,
   "id": "9267956f",
   "metadata": {},
   "outputs": [
    {
     "name": "stdout",
     "output_type": "stream",
     "text": [
      "           Jumlah Kendaraan\n",
      "Kecamatan                  \n",
      "A                     341.0\n",
      "B                     654.0\n",
      "C                     722.0\n",
      "D                     613.0\n",
      "E                     801.0\n",
      "F                     672.0\n",
      "G                     397.0\n",
      "H                     609.0\n",
      "I                     558.0\n",
      "J                     566.0\n"
     ]
    }
   ],
   "source": [
    "# Melakukan groupby pada tingkat kecamatan\n",
    "df_kecamatan = df.groupby('Kecamatan').agg({'Jumlah Kendaraan': 'sum'})\n",
    "\n",
    "# Menampilkan dataframe hasil groupby\n",
    "print(df_kecamatan)\n",
    "\n",
    "# Simpan DataFrame ke dalam file CSV\n",
    "df_kecamatan_csv='df_kecamatan_csv.csv'\n",
    "path_kecamatan_csv=output_all + df_kecamatan_csv\n",
    "data.to_csv(path_kecamatan_csv, index=False)"
   ]
  },
  {
   "cell_type": "code",
   "execution_count": 28,
   "id": "08c879ee",
   "metadata": {},
   "outputs": [
    {
     "name": "stdout",
     "output_type": "stream",
     "text": [
      "           Jumlah Kendaraan\n",
      "Kecamatan                  \n",
      "A                 22.733333\n",
      "B                 43.600000\n",
      "C                 42.470588\n",
      "D                 36.058824\n",
      "E                 57.214286\n",
      "F                 35.368421\n",
      "G                 26.466667\n",
      "H                 43.500000\n",
      "I                 37.200000\n",
      "J                 25.727273\n"
     ]
    }
   ],
   "source": [
    "# Melakukan groupby pada tingkat kecamatan\n",
    "df_kecamatan_mean = df.groupby('Kecamatan').agg({'Jumlah Kendaraan': 'mean'})\n",
    "\n",
    "# Menampilkan dataframe hasil groupby\n",
    "print(df_kecamatan_mean)"
   ]
  },
  {
   "cell_type": "code",
   "execution_count": 48,
   "id": "0759413c",
   "metadata": {},
   "outputs": [
    {
     "name": "stdout",
     "output_type": "stream",
     "text": [
      "           Jumlah Kendaraan\n",
      "Kabupaten                  \n",
      "Alfa                  995.0\n",
      "Beta                 1335.0\n",
      "Delta                1473.0\n",
      "Gamma                1006.0\n",
      "Lamda                1124.0\n"
     ]
    }
   ],
   "source": [
    "# Melakukan groupby pada tingkat kabupaten\n",
    "df_kabupaten = df.groupby('Kabupaten').agg({'Jumlah Kendaraan': 'sum'})\n",
    "\n",
    "# Menampilkan dataframe hasil groupby\n",
    "print(df_kabupaten)\n",
    "\n",
    "# Simpan DataFrame ke dalam file CSV\n",
    "df_kabupaten_csv='df_kabupaten_csv.csv'\n",
    "path_kabupaten_csv=output_all + df_kabupaten_csv\n",
    "data.to_csv(path_kabupaten_csv, index=False)"
   ]
  },
  {
   "cell_type": "code",
   "execution_count": 30,
   "id": "a6131c03",
   "metadata": {},
   "outputs": [
    {
     "name": "stdout",
     "output_type": "stream",
     "text": [
      "           Jumlah Kendaraan\n",
      "Kabupaten                  \n",
      "Alfa              33.166667\n",
      "Beta              39.264706\n",
      "Delta             44.636364\n",
      "Gamma             34.689655\n",
      "Lamda             30.378378\n"
     ]
    }
   ],
   "source": [
    "# Melakukan groupby pada tingkat kabupaten\n",
    "df_kabupaten = df.groupby('Kabupaten').agg({'Jumlah Kendaraan': 'mean'})\n",
    "\n",
    "# Menampilkan dataframe hasil groupby\n",
    "print(df_kabupaten)"
   ]
  },
  {
   "cell_type": "markdown",
   "id": "bb9ecbd2",
   "metadata": {},
   "source": [
    "## 4. Range"
   ]
  },
  {
   "cell_type": "code",
   "execution_count": 76,
   "id": "ed9368c6",
   "metadata": {},
   "outputs": [
    {
     "name": "stdout",
     "output_type": "stream",
     "text": [
      "C:\\Users\\Singgih\\Downloads\\Programs\\automation3\n"
     ]
    }
   ],
   "source": [
    "#cd C:\\\\Users\\\\Singgih\\\\Downloads\\\\Programs\\\\automation3\n",
    "#cd output"
   ]
  },
  {
   "cell_type": "code",
   "execution_count": 77,
   "id": "0bdae152",
   "metadata": {},
   "outputs": [
    {
     "data": {
      "text/plain": [
       "'C:\\\\Users\\\\Singgih\\\\Downloads\\\\Programs\\\\automation3'"
      ]
     },
     "execution_count": 77,
     "metadata": {},
     "output_type": "execute_result"
    }
   ],
   "source": [
    "#pwd"
   ]
  },
  {
   "cell_type": "code",
   "execution_count": 78,
   "id": "cdf57c80",
   "metadata": {},
   "outputs": [
    {
     "data": {
      "text/html": [
       "<div>\n",
       "<style scoped>\n",
       "    .dataframe tbody tr th:only-of-type {\n",
       "        vertical-align: middle;\n",
       "    }\n",
       "\n",
       "    .dataframe tbody tr th {\n",
       "        vertical-align: top;\n",
       "    }\n",
       "\n",
       "    .dataframe thead th {\n",
       "        text-align: right;\n",
       "    }\n",
       "</style>\n",
       "<table border=\"1\" class=\"dataframe\">\n",
       "  <thead>\n",
       "    <tr style=\"text-align: right;\">\n",
       "      <th></th>\n",
       "      <th>Desa</th>\n",
       "      <th>Kecamatan</th>\n",
       "      <th>Kabupaten</th>\n",
       "      <th>Datetime</th>\n",
       "      <th>Jumlah Kendaraan</th>\n",
       "    </tr>\n",
       "  </thead>\n",
       "  <tbody>\n",
       "    <tr>\n",
       "      <th>0</th>\n",
       "      <td>Desa 7</td>\n",
       "      <td>A</td>\n",
       "      <td>Alfa</td>\n",
       "      <td>2022-11-14</td>\n",
       "      <td>129.0</td>\n",
       "    </tr>\n",
       "    <tr>\n",
       "      <th>1</th>\n",
       "      <td>Desa 17</td>\n",
       "      <td>A</td>\n",
       "      <td>Alfa</td>\n",
       "      <td>2022-02-10</td>\n",
       "      <td>140.0</td>\n",
       "    </tr>\n",
       "    <tr>\n",
       "      <th>2</th>\n",
       "      <td>Desa 21</td>\n",
       "      <td>A</td>\n",
       "      <td>Alfa</td>\n",
       "      <td>2022-11-27</td>\n",
       "      <td>72.0</td>\n",
       "    </tr>\n",
       "    <tr>\n",
       "      <th>3</th>\n",
       "      <td>Desa 28</td>\n",
       "      <td>B</td>\n",
       "      <td>Alfa</td>\n",
       "      <td>2022-06-01</td>\n",
       "      <td>105.0</td>\n",
       "    </tr>\n",
       "    <tr>\n",
       "      <th>4</th>\n",
       "      <td>Desa 30</td>\n",
       "      <td>B</td>\n",
       "      <td>Alfa</td>\n",
       "      <td>2022-06-21</td>\n",
       "      <td>29.0</td>\n",
       "    </tr>\n",
       "  </tbody>\n",
       "</table>\n",
       "</div>"
      ],
      "text/plain": [
       "      Desa Kecamatan Kabupaten    Datetime  Jumlah Kendaraan\n",
       "0   Desa 7         A      Alfa  2022-11-14             129.0\n",
       "1  Desa 17         A      Alfa  2022-02-10             140.0\n",
       "2  Desa 21         A      Alfa  2022-11-27              72.0\n",
       "3  Desa 28         B      Alfa  2022-06-01             105.0\n",
       "4  Desa 30         B      Alfa  2022-06-21              29.0"
      ]
     },
     "execution_count": 78,
     "metadata": {},
     "output_type": "execute_result"
    }
   ],
   "source": [
    "df_range=pd.read_csv(\".\\output\\data_cleaned.csv\")\n",
    "df_range.head()"
   ]
  },
  {
   "cell_type": "code",
   "execution_count": 80,
   "id": "53efa72a",
   "metadata": {},
   "outputs": [
    {
     "name": "stdout",
     "output_type": "stream",
     "text": [
      "        Desa Kecamatan Kabupaten    Datetime  Jumlah Kendaraan  level\n",
      "0     Desa 7         A      Alfa  2022-11-14             129.0      3\n",
      "1    Desa 17         A      Alfa  2022-02-10             140.0      3\n",
      "2    Desa 21         A      Alfa  2022-11-27              72.0      2\n",
      "3    Desa 28         B      Alfa  2022-06-01             105.0      3\n",
      "4    Desa 30         B      Alfa  2022-06-21              29.0      1\n",
      "..       ...       ...       ...         ...               ...    ...\n",
      "67  Desa 237         J     Lamda  2022-05-28              30.0      1\n",
      "68  Desa 239         J     Lamda  2022-06-07              83.0      2\n",
      "69  Desa 240         J     Lamda  2022-07-26              92.0      2\n",
      "70  Desa 246         J     Lamda  2022-11-16              18.0      1\n",
      "71  Desa 248         J     Lamda  2022-05-12             120.0      3\n",
      "\n",
      "[72 rows x 6 columns]\n"
     ]
    }
   ],
   "source": [
    "# Membuat fungsi untuk menentukan level berdasarkan jumlah kendaraan\n",
    "def get_level(jumlah_kendaraan):\n",
    "    if jumlah_kendaraan <= 50:\n",
    "        return 1\n",
    "    elif jumlah_kendaraan <= 100:\n",
    "        return 2\n",
    "    else:\n",
    "        return 3\n",
    "\n",
    "# Menambahkan kolom \"level\" dengan menggunakan metode apply\n",
    "df_range['level'] = df_range['Jumlah Kendaraan'].apply(get_level)\n",
    "\n",
    "# Menampilkan dataframe hasil penambahan kolom \"level\"\n",
    "print(df_range)"
   ]
  },
  {
   "cell_type": "code",
   "execution_count": 87,
   "id": "d53c4fa5",
   "metadata": {},
   "outputs": [
    {
     "data": {
      "text/plain": [
       "<Figure size 1296x1080 with 0 Axes>"
      ]
     },
     "metadata": {},
     "output_type": "display_data"
    },
    {
     "data": {
      "image/png": "[encoded data removed]",
      "text/plain": [
       "<Figure size 432x288 with 1 Axes>"
      ]
     },
     "metadata": {
      "needs_background": "light"
     },
     "output_type": "display_data"
    }
   ],
   "source": [
    "# Melakukan groupby pada tingkat kecamatan dan level, menghitung jumlah kecamatan per level\n",
    "df_level = df_range.groupby(['Kecamatan', 'level']).size().unstack()\n",
    "\n",
    "# Menampilkan grafik batang\n",
    "plt.figure(figsize=(18, 15))\n",
    "df_level.plot(kind='bar', stacked=True)\n",
    "plt.xlabel('Kecamatan')\n",
    "plt.ylabel('Jumlah')\n",
    "plt.title('Jumlah Kecamatan per Level')\n",
    "plt.legend(title='Level')\n",
    "\n",
    "# Menyimpan grafik dalam format JPG\n",
    "plt.savefig(r'.\\output\\Kec_Level.jpg')\n",
    "plt.show()"
   ]
  },
  {
   "cell_type": "code",
   "execution_count": 88,
   "id": "f53dde79",
   "metadata": {},
   "outputs": [
    {
     "data": {
      "text/plain": [
       "<Figure size 1296x1080 with 0 Axes>"
      ]
     },
     "metadata": {},
     "output_type": "display_data"
    },
    {
     "data": {
      "image/png": "[encoded data removed]",
      "text/plain": [
       "<Figure size 432x288 with 1 Axes>"
      ]
     },
     "metadata": {
      "needs_background": "light"
     },
     "output_type": "display_data"
    }
   ],
   "source": [
    "# Melakukan groupby pada tingkat kabupaten dan level, menghitung jumlah kabupaten per level\n",
    "df_level = df_range.groupby(['Kabupaten', 'level']).size().unstack()\n",
    "\n",
    "# Menampilkan grafik batang\n",
    "plt.figure(figsize=(18, 15))\n",
    "df_level.plot(kind='bar', stacked=True)\n",
    "plt.xlabel('Kabupaten')\n",
    "plt.ylabel('Jumlah')\n",
    "plt.title('Jumlah Kecamatan per Level')\n",
    "plt.legend(title='Level')\n",
    "\n",
    "# Menyimpan grafik dalam format JPG\n",
    "plt.savefig(r'.\\output\\Kab_Level.jpg')\n",
    "plt.show()"
   ]
  },
  {
   "cell_type": "code",
   "execution_count": null,
   "id": "e6713f35",
   "metadata": {},
   "outputs": [],
   "source": []
  }
 ],
 "metadata": {
  "kernelspec": {
   "display_name": "Python 3 (ipykernel)",
   "language": "python",
   "name": "python3"
  },
  "language_info": {
   "codemirror_mode": {
    "name": "ipython",
    "version": 3
   },
   "file_extension": ".py",
   "mimetype": "text/x-python",
   "name": "python",
   "nbconvert_exporter": "python",
   "pygments_lexer": "ipython3",
   "version": "3.10.9"
  }
 },
 "nbformat": 4,
 "nbformat_minor": 5
}
